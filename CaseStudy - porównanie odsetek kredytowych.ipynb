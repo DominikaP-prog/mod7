{
 "cells": [
  {
   "cell_type": "code",
   "execution_count": 1,
   "id": "a08344e7",
   "metadata": {},
   "outputs": [],
   "source": [
    "import numpy as np\n",
    "freq = 12\n",
    "rate = 0.0675\n",
    "years = 30\n",
    "pv = 200000\n",
    "\n",
    "rate /= freq  # konwersja stopy do okresu miesięcznego\n",
    "nper = years * freq  # liczba wszystkich okresów"
   ]
  },
  {
   "cell_type": "code",
   "execution_count": 3,
   "id": "b73277c4",
   "metadata": {},
   "outputs": [
    {
     "ename": "NameError",
     "evalue": "name 'np' is not defined",
     "output_type": "error",
     "traceback": [
      "\u001b[31m---------------------------------------------------------------------------\u001b[39m",
      "\u001b[31mNameError\u001b[39m                                 Traceback (most recent call last)",
      "\u001b[36mCell\u001b[39m\u001b[36m \u001b[39m\u001b[32mIn[3]\u001b[39m\u001b[32m, line 1\u001b[39m\n\u001b[32m----> \u001b[39m\u001b[32m1\u001b[39m periods = \u001b[43mnp\u001b[49m.arange(\u001b[32m1\u001b[39m,nper+\u001b[32m1\u001b[39m,dtype=\u001b[38;5;28mint\u001b[39m)\n",
      "\u001b[31mNameError\u001b[39m: name 'np' is not defined"
     ]
    }
   ],
   "source": [
    "periods = np.arange(1,nper+1,dtype=int)"
   ]
  },
  {
   "cell_type": "code",
   "execution_count": 4,
   "id": "bfe5ce22",
   "metadata": {},
   "outputs": [],
   "source": [
    "import numpy as np\n",
    "freq = 12\n",
    "rate = 0.0675\n",
    "years = 30\n",
    "pv = 200000\n",
    "\n",
    "rate /= freq  # konwersja stopy do okresu miesięcznego\n",
    "nper = years * freq  # liczba wszystkich okresów"
   ]
  },
  {
   "cell_type": "code",
   "execution_count": 5,
   "id": "02ae7fbb",
   "metadata": {},
   "outputs": [],
   "source": [
    "periods = np.arange(1,nper+1,dtype=int)"
   ]
  },
  {
   "cell_type": "code",
   "execution_count": 6,
   "id": "80b91fbb",
   "metadata": {},
   "outputs": [
    {
     "data": {
      "text/plain": [
       "array([1125.  , 1124.03, 1123.06, 1122.08, 1121.09, 1120.1 , 1119.11,\n",
       "       1118.1 , 1117.1 , 1116.08])"
      ]
     },
     "execution_count": 6,
     "metadata": {},
     "output_type": "execute_result"
    }
   ],
   "source": [
    "import numpy_financial as npf\n",
    "interest_equal = - np.around(npf.ipmt(rate,periods,nper,pv),2)\n",
    "interest_equal[:10]"
   ]
  },
  {
   "cell_type": "code",
   "execution_count": 7,
   "id": "9bc66bbb",
   "metadata": {},
   "outputs": [
    {
     "data": {
      "text/plain": [
       "array([555.56, 555.56, 555.56, 555.56, 555.56, 555.56, 555.56, 555.56,\n",
       "       555.56, 555.56])"
      ]
     },
     "execution_count": 7,
     "metadata": {},
     "output_type": "execute_result"
    }
   ],
   "source": [
    "np.set_printoptions(suppress=True)\n",
    "\n",
    "principal_decreasing = np.around(np.zeros(nper)+(pv/nper),2)\n",
    "principal_decreasing[:10]"
   ]
  },
  {
   "cell_type": "code",
   "execution_count": 8,
   "id": "844cdc6a",
   "metadata": {},
   "outputs": [
    {
     "data": {
      "text/plain": [
       "array([199444.44, 198888.88, 198333.32,   1109.52,    553.96,     -1.6 ])"
      ]
     },
     "execution_count": 8,
     "metadata": {},
     "output_type": "execute_result"
    }
   ],
   "source": [
    "balance = np.zeros(nper) + pv\n",
    "balance_close = np.around(balance - np.cumsum(principal_decreasing),2)\n",
    "balance_close[[0,1,2,-3,-2,-1]]"
   ]
  },
  {
   "cell_type": "code",
   "execution_count": 9,
   "id": "4937ecdd",
   "metadata": {},
   "outputs": [
    {
     "data": {
      "text/plain": [
       "array([ 555.56, 1111.12, 1666.68, 2222.24, 2777.8 , 3333.36, 3888.92,\n",
       "       4444.48, 5000.04, 5555.6 ])"
      ]
     },
     "execution_count": 9,
     "metadata": {},
     "output_type": "execute_result"
    }
   ],
   "source": [
    "np.cumsum(principal_decreasing)[:10]"
   ]
  },
  {
   "cell_type": "code",
   "execution_count": 10,
   "id": "c3f92f97",
   "metadata": {},
   "outputs": [],
   "source": [
    "balance_open = balance_close + principal_decreasing"
   ]
  },
  {
   "cell_type": "code",
   "execution_count": 11,
   "id": "be2ceedd",
   "metadata": {},
   "outputs": [
    {
     "data": {
      "text/plain": [
       "array([1125.  , 1121.87, 1118.75, 1115.62, 1112.5 , 1109.37, 1106.25,\n",
       "       1103.12, 1100.  , 1096.87])"
      ]
     },
     "execution_count": 11,
     "metadata": {},
     "output_type": "execute_result"
    }
   ],
   "source": [
    "interest_decreasing = np.around(balance_open * rate,2)\n",
    "interest_decreasing[:10]"
   ]
  },
  {
   "cell_type": "code",
   "execution_count": 12,
   "id": "514b02ae",
   "metadata": {},
   "outputs": [
    {
     "name": "stdout",
     "output_type": "stream",
     "text": [
      "Wartość odsetek do zapłaty w wariancie kredytu w równych ratach wynosi: 266990.60\n",
      "Wartość odsetek do zapłaty w wariancie kredytu w ratach malejących wynosi: 203060.81\n"
     ]
    }
   ],
   "source": [
    "print(\"Wartość odsetek do zapłaty w wariancie kredytu w równych ratach wynosi: \" + str(\"{:.2f}\".format(interest_equal.sum())))\n",
    "print(\"Wartość odsetek do zapłaty w wariancie kredytu w ratach malejących wynosi: \" + str(\"{:.2f}\".format(interest_decreasing.sum())))"
   ]
  },
  {
   "cell_type": "code",
   "execution_count": null,
   "id": "5a4e9179",
   "metadata": {},
   "outputs": [],
   "source": []
  }
 ],
 "metadata": {
  "kernelspec": {
   "display_name": "Python 3 (ipykernel)",
   "language": "python",
   "name": "python3"
  },
  "language_info": {
   "codemirror_mode": {
    "name": "ipython",
    "version": 3
   },
   "file_extension": ".py",
   "mimetype": "text/x-python",
   "name": "python",
   "nbconvert_exporter": "python",
   "pygments_lexer": "ipython3",
   "version": "3.13.2"
  }
 },
 "nbformat": 4,
 "nbformat_minor": 5
}
